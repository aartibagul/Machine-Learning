{
 "cells": [
  {
   "cell_type": "markdown",
   "metadata": {},
   "source": [
    "# Homework 4: k-means, bag-of-features #\n"
   ]
  },
  {
   "cell_type": "code",
   "execution_count": 325,
   "metadata": {
    "collapsed": true
   },
   "outputs": [],
   "source": [
    "%matplotlib inline\n",
    "from sklearn.datasets import load_iris\n",
    "import matplotlib.pyplot as plt\n",
    "import numpy as np\n",
    "import random"
   ]
  },
  {
   "cell_type": "markdown",
   "metadata": {},
   "source": [
    "## 2)  k- means##"
   ]
  },
  {
   "cell_type": "code",
   "execution_count": 326,
   "metadata": {
    "collapsed": true
   },
   "outputs": [],
   "source": [
    "'''\n",
    "This function gets the the closest centroid to a point\n",
    "and the distance between them,\n",
    "\n",
    "Input:\n",
    "x- data point\n",
    "centers- list of centroids\n",
    "\n",
    "Output:\n",
    "index- index of the closest centroid in the centers array\n",
    "min(distances)- The distance between the data-point and the closest center\n",
    "'''\n",
    "\n",
    "def get_closest(x, centers):\n",
    "    distances = []\n",
    "    \n",
    "    #get the distance from the point(x) to every centroid\n",
    "    #and get the index of centroid that yields \n",
    "    #the minimum distance \n",
    "    \n",
    "    for mu in centers:\n",
    "        distances.append(np.linalg.norm(x-mu))\n",
    "    index = np.argmin(distances)\n",
    "    \n",
    "    return index, min(distances)\n",
    "    \n"
   ]
  },
  {
   "cell_type": "code",
   "execution_count": 327,
   "metadata": {
    "collapsed": true
   },
   "outputs": [],
   "source": [
    "'''\n",
    "This function implements the k-means algorithm described in Sec 22.2.1\n",
    "of the textbook. It initializes k centroids randomly. Then, it assigns \n",
    "all the data-points to one of the k clusters and assigns new centroids.\n",
    "This is repeated for max_iter iterations.\n",
    "\n",
    "Input:\n",
    "p- data points to be clustered\n",
    "k- number of clusters\n",
    "max_iter- number of iterations \n",
    "\n",
    "Output:\n",
    "C- Information about which cluster each data-point corresponds to\n",
    "centers- list of k centroids\n",
    "'''\n",
    "def mykmeans(p, k, max_iter):\n",
    "    \n",
    "    #generate k centroids \n",
    "    centers = random.sample(p,k)\n",
    "    \n",
    "\n",
    "    for t in range(max_iter):    \n",
    "        C=[0]*len(p)\n",
    "        \n",
    "        #assign clusters to each point\n",
    "        #Note: the list C stores the index of the closest centroid \n",
    "        #in the centers list rather than storing the actual centroid\n",
    "        \n",
    "        for i in range(len(p)):\n",
    "            index = get_closest(p[i], centers)[0]\n",
    "            C[i] = index\n",
    "              \n",
    "        C = np.array(C)\n",
    "        \n",
    "        #assign new centers \n",
    "        centers = [p[C==j].mean(axis = 0) for j in range(k)]\n",
    " \n",
    "    return C, centers"
   ]
  },
  {
   "cell_type": "code",
   "execution_count": 341,
   "metadata": {
    "collapsed": true
   },
   "outputs": [],
   "source": [
    "'''\n",
    "Function to plot the output of the kmeans algorithm\n",
    "\n",
    "Input:\n",
    "C- Information about which cluster each data-point corresponds to\n",
    "centers- list of centroids (PCA is used to reduce \n",
    "       the dimensions to 2)\n",
    "X_pca- the data_points to be plotted (PCA is used to reduce \n",
    "       the dimensions to 2)\n",
    "k - number of clusters\n",
    "'''\n",
    "def plot_kmeans(C,centers,X_pca,k):\n",
    "    \n",
    "    #choose random colour for the centroids\n",
    "    marker_c = [random.random() for y in range(3)]\n",
    "\n",
    "    for i in range(k):\n",
    "        \n",
    "            #plot data-points corresponding to a specific cluster\n",
    "            #with a random colour and plot the centroid of that \n",
    "            #cluster\n",
    "            \n",
    "            x = X_pca[C==i]\n",
    "            colour = [random.random() for c in range(3)]\n",
    "            plt.scatter(x[:,0],x[:,1], color=colour)\n",
    "            plt.scatter(centers[i][0], centers[i][1], marker='s', c = marker_c, s = 40)\n",
    "           "
   ]
  },
  {
   "cell_type": "code",
   "execution_count": 342,
   "metadata": {
    "collapsed": false
   },
   "outputs": [
    {
     "data": {
      "image/png": "[encoded data removed]",
      "text/plain": [
       "<matplotlib.figure.Figure at 0x11e9f9f10>"
      ]
     },
     "metadata": {},
     "output_type": "display_data"
    }
   ],
   "source": [
    "from sklearn.decomposition import PCA\n",
    "from sklearn import preprocessing\n",
    "\n",
    "np.random.seed(12222015)\n",
    "\n",
    "iris = load_iris() \n",
    "X = iris.data\n",
    "Y = iris.target\n",
    "\n",
    "X_scaled = preprocessing.scale(X)\n",
    "\n",
    "k = 3\n",
    "C, centers = mykmeans(X_scaled, k, 50)\n",
    "\n",
    "#use PCA to reduce the dimenions to 2(for plotting)\n",
    "pca = PCA(n_components=2)\n",
    "pca.fit(X_scaled)\n",
    "\n",
    "centers_pca = pca.transform(centers) \n",
    "X_pca = pca.transform(X_scaled) \n",
    "\n",
    "plot_kmeans(C, centers_pca, X_pca, k)\n"
   ]
  },
  {
   "cell_type": "code",
   "execution_count": 330,
   "metadata": {
    "collapsed": true
   },
   "outputs": [],
   "source": [
    "'''\n",
    "This function returns the value of the k-means objective function\n",
    "\n",
    "Input:\n",
    "X- data points to be clustered\n",
    "k- number of clusters\n",
    "C- Information about which cluster each data-point corresponds to\n",
    "centers- list of k centroids \n",
    "\n",
    "Output:\n",
    "sum_distance - value obtained by evaluating the k means objective function\n",
    "\n",
    "'''\n",
    "\n",
    "def k_means_objective(X, k, C, centers):\n",
    "    \n",
    "    sum_distance = 0\n",
    "    for j in range(k):\n",
    "        for x in X[C==j]:\n",
    "            sum_distance += (np.linalg.norm(x-centers[j]))**2\n",
    "                \n",
    "    return sum_distance"
   ]
  },
  {
   "cell_type": "code",
   "execution_count": 347,
   "metadata": {
    "collapsed": false
   },
   "outputs": [],
   "source": [
    "'''\n",
    "This function is a modified version of the mykmeans function. \n",
    "The k means algorithm from before is run multiple times starting from \n",
    "different random draws of the initial centroids. It calculates the \n",
    "k-means objective function for each run and picks the centroids \n",
    "corresponding to the smallest value of the function over all runs.\n",
    "\n",
    "Input:\n",
    "p- data points to be clustered\n",
    "k- number of clusters\n",
    "max_iter- number of iterations for the k-means algorithm\n",
    "runs- number of times the k-means algorithm is run\n",
    "\n",
    "Output:\n",
    "C- Information about which cluster each data-point corresponds to\n",
    "centers- list of k centroids \n",
    "\n",
    "'''\n",
    "def mykmeans_multi(p, k, max_iter, runs):\n",
    "    \n",
    "    distortion = [] # store distortion calculated after each run\n",
    "    centers_list = [] #store list of centroids for each run\n",
    "    C_list = [] #store information about which cluster each \n",
    "                #data-point corresponds to for each run\n",
    "    \n",
    "    d = [] #store list of distortions for each iteration in each run\n",
    "    c1 = []\n",
    "    C1 = []\n",
    "    for r in range(runs):\n",
    "        centers = random.sample(p,3)\n",
    "        \n",
    "        c_i = [] # centers for each iteration\n",
    "        c_i.append(centers)\n",
    "        C_i = [] # clusters for each iteration\n",
    "        d_i = [] #store distortion of each iteration\n",
    "        \n",
    "        for t in range(max_iter):  \n",
    "            \n",
    "            C=[0]*len(p)\n",
    "            \n",
    "            #assign clusters\n",
    "            for i in range(len(p)):\n",
    "                index = get_closest(p[i], centers)[0]\n",
    "                C[i] = index\n",
    "        \n",
    "            \n",
    "            C = np.array(C)\n",
    "            \n",
    "            d_i.append(k_means_objective(p, k, C, centers))\n",
    "            \n",
    "            #calculate new centroids\n",
    "            centers = [p[C==j].mean(axis = 0) for j in range(k)]\n",
    "            \n",
    "            C_i.append(C) #store clustering information for this iteration\n",
    "            c_i.append(centers) #store list of centroids for this iteration\n",
    "            #calculate and store distortion for this iteration\n",
    "            \n",
    "        \n",
    "        C1.append(C_i)\n",
    "        c1.append(c_i)\n",
    "        d.append(d_i)\n",
    "        centers_list.append(centers)\n",
    "        C_list.append(C)\n",
    "        #calculate the distortion for the run\n",
    "        distortion.append(k_means_objective(p, k, C, centers))\n",
    "    \n",
    "    \n",
    "    #get index of run with minimum distortion\n",
    "    min_index = np.argmin(distortion)                  \n",
    "    return C_list[min_index], centers_list[min_index], d[min_index], c1[min_index], C1[min_index]"
   ]
  },
  {
   "cell_type": "code",
   "execution_count": 378,
   "metadata": {
    "collapsed": false
   },
   "outputs": [
    {
     "data": {
      "text/plain": [
       "<matplotlib.text.Text at 0x120042910>"
      ]
     },
     "execution_count": 378,
     "metadata": {},
     "output_type": "execute_result"
    },
    {
     "data": {
      "image/png": "[encoded data removed]",
      "text/plain": [
       "<matplotlib.figure.Figure at 0x11be95510>"
      ]
     },
     "metadata": {},
     "output_type": "display_data"
    },
    {
     "data": {
      "image/png": "[encoded data removed]",
      "text/plain": [
       "<matplotlib.figure.Figure at 0x11be95a90>"
      ]
     },
     "metadata": {},
     "output_type": "display_data"
    }
   ],
   "source": [
    "k = 3\n",
    "C1, centers1, distortion, centers_list, C_list = mykmeans_multi(X_scaled, k,50, 10)\n",
    "centers1_pca = pca.transform(centers1) \n",
    "\n",
    "\n",
    "for j in range(len(centers_list)):\n",
    "    centers_list[j] = pca.transform(centers_list[j])\n",
    "\n",
    "    \n",
    "centers_list = np.array(centers_list)    \n",
    "\n",
    "marker_c = [random.random() for y in range(3)]\n",
    "\n",
    "for i in range(k):\n",
    "        \n",
    "            \n",
    "    x = X_pca[C1==i]\n",
    "    colour = [random.random() for c in range(3)]\n",
    "    plt.scatter(x[:,0],x[:,1], color=colour)\n",
    "\n",
    "#plot centroids over all iterations connected by a line\n",
    "for l in range(k):\n",
    "    plt.plot(centers_list[:,l][:,0], centers_list[:,l][:,1], '-o')\n",
    "\n",
    "    \n",
    "#plot of distortion vs number of iterations\n",
    "plt.figure()\n",
    "index1= [i for i in range(50)]\n",
    "plt.plot(index1, distortion)\n",
    "plt.xlabel('Iterations')\n",
    "plt.ylabel('Distortion')\n"
   ]
  },
  {
   "cell_type": "code",
   "execution_count": 469,
   "metadata": {
    "collapsed": false,
    "scrolled": true
   },
   "outputs": [
    {
     "ename": "IndexError",
     "evalue": "index 3 is out of bounds for axis 1 with size 3",
     "output_type": "error",
     "traceback": [
      "\u001b[0;31m---------------------------------------------------------------------------\u001b[0m",
      "\u001b[0;31mIndexError\u001b[0m                                Traceback (most recent call last)",
      "\u001b[0;32m<ipython-input-469-9e8b34ebf622>\u001b[0m in \u001b[0;36m<module>\u001b[0;34m()\u001b[0m\n\u001b[1;32m     21\u001b[0m \u001b[0;34m\u001b[0m\u001b[0m\n\u001b[1;32m     22\u001b[0m \u001b[0;32mfor\u001b[0m \u001b[0ml\u001b[0m \u001b[0;32min\u001b[0m \u001b[0mrange\u001b[0m\u001b[0;34m(\u001b[0m\u001b[0mk\u001b[0m\u001b[0;34m)\u001b[0m\u001b[0;34m:\u001b[0m\u001b[0;34m\u001b[0m\u001b[0m\n\u001b[0;32m---> 23\u001b[0;31m     \u001b[0mplt\u001b[0m\u001b[0;34m.\u001b[0m\u001b[0mplot\u001b[0m\u001b[0;34m(\u001b[0m\u001b[0mcenters_list\u001b[0m\u001b[0;34m[\u001b[0m\u001b[0;34m:\u001b[0m\u001b[0;34m,\u001b[0m\u001b[0ml\u001b[0m\u001b[0;34m]\u001b[0m\u001b[0;34m[\u001b[0m\u001b[0;34m:\u001b[0m\u001b[0;34m,\u001b[0m\u001b[0;36m0\u001b[0m\u001b[0;34m]\u001b[0m\u001b[0;34m,\u001b[0m \u001b[0mcenters_list\u001b[0m\u001b[0;34m[\u001b[0m\u001b[0;34m:\u001b[0m\u001b[0;34m,\u001b[0m\u001b[0ml\u001b[0m\u001b[0;34m]\u001b[0m\u001b[0;34m[\u001b[0m\u001b[0;34m:\u001b[0m\u001b[0;34m,\u001b[0m\u001b[0;36m1\u001b[0m\u001b[0;34m]\u001b[0m\u001b[0;34m,\u001b[0m \u001b[0;34m'-o'\u001b[0m\u001b[0;34m)\u001b[0m\u001b[0;34m\u001b[0m\u001b[0m\n\u001b[0m\u001b[1;32m     24\u001b[0m \u001b[0;34m\u001b[0m\u001b[0m\n",
      "\u001b[0;31mIndexError\u001b[0m: index 3 is out of bounds for axis 1 with size 3"
     ]
    },
    {
     "data": {
      "image/png": "[encoded data removed]",
      "text/plain": [
       "<matplotlib.figure.Figure at 0x12035a1d0>"
      ]
     },
     "metadata": {},
     "output_type": "display_data"
    }
   ],
   "source": [
    "'''\n",
    "This is an alternative way to depict the changes in clustering and the\n",
    "changes in centroids over different iterations\n",
    "'''\n",
    "\n",
    "import time\n",
    "marker_c = [random.random() for y in range(3)]\n",
    "from IPython import display\n",
    "\n",
    "colour = []\n",
    "for i in range(k):           \n",
    "    colour.append([random.random() for c in range(3)])\n",
    "    \n",
    "\n",
    "for m in range(10):\n",
    "    plt.clf()\n",
    "    for i in range(k):\n",
    "        x = X_pca[C_list[m]==i]\n",
    "        plt.scatter(x[:,0],x[:,1],color = colour[i]) \n",
    "        c = plt.scatter(centers_list[m][:,0], centers_list[m][:,1], marker = 's', color = marker_c, s = 40) \n",
    "        display.display(plt.gcf())\n",
    "        display.clear_output(wait=True)\n",
    "       \n",
    "    \n",
    "    time.sleep(2)\n",
    "    \n",
    "for l in range(k):\n",
    "    plt.plot(centers_list[:,l][:,0], centers_list[:,l][:,1], '-o')\n",
    "        "
   ]
  },
  {
   "cell_type": "code",
   "execution_count": 391,
   "metadata": {
    "collapsed": false
   },
   "outputs": [],
   "source": [
    "\n",
    "def mykmeans_plus_plus(p, k, max_iter):\n",
    "    centers = []\n",
    "    centers_list = []\n",
    "    distortion = []\n",
    "    centers.append(random.sample(p,1))\n",
    "    \n",
    "    for r in range(k-1):\n",
    "        x = random.random()\n",
    "        num_dx = (get_closest(p[0],centers)[1])**2\n",
    "        den_dx = 0\n",
    "        for x_i in p:\n",
    "            den_dx += (get_closest(x_i,centers)[1])**2\n",
    "        index = 0\n",
    "        while num_dx/den_dx < x:\n",
    "            \n",
    "            index += 1\n",
    "            num_dx += (get_closest(p[index],centers)[1])**2\n",
    "\n",
    "        centers.append(p[index])\n",
    "    \n",
    "    centers_list.append(centers)\n",
    "    for t in range(max_iter):    \n",
    "        C=[0]*len(p)\n",
    "        \n",
    "        \n",
    "        #assign clusters\n",
    "        for i in range(len(p)): \n",
    "            index = get_closest(p[i], centers)[0]\n",
    "            C[i] = index\n",
    "        \n",
    "        C = np.array(C)\n",
    "        \n",
    "        distortion.append(k_means_objective(p, k, C, centers))\n",
    "        \n",
    "        centers = [p[C==j].mean(axis = 0) for j in range(k)]\n",
    "        centers_list.append(centers)\n",
    "        \n",
    "    return C, centers, distortion, centers_list  "
   ]
  },
  {
   "cell_type": "code",
   "execution_count": 516,
   "metadata": {
    "collapsed": false
   },
   "outputs": [
    {
     "ename": "IndexError",
     "evalue": "index 3 is out of bounds for axis 0 with size 3",
     "output_type": "error",
     "traceback": [
      "\u001b[0;31m---------------------------------------------------------------------------\u001b[0m",
      "\u001b[0;31mIndexError\u001b[0m                                Traceback (most recent call last)",
      "\u001b[0;32m<ipython-input-516-7467ea455622>\u001b[0m in \u001b[0;36m<module>\u001b[0;34m()\u001b[0m\n\u001b[1;32m      6\u001b[0m \u001b[0;34m\u001b[0m\u001b[0m\n\u001b[1;32m      7\u001b[0m \u001b[0mcenters_list2\u001b[0m \u001b[0;34m=\u001b[0m \u001b[0mnp\u001b[0m\u001b[0;34m.\u001b[0m\u001b[0marray\u001b[0m\u001b[0;34m(\u001b[0m\u001b[0mcenters_list2\u001b[0m\u001b[0;34m)\u001b[0m\u001b[0;34m\u001b[0m\u001b[0m\n\u001b[0;32m----> 8\u001b[0;31m \u001b[0mplot_kmeans\u001b[0m\u001b[0;34m(\u001b[0m\u001b[0mC2\u001b[0m\u001b[0;34m,\u001b[0m \u001b[0mcenters2_pca\u001b[0m\u001b[0;34m,\u001b[0m \u001b[0mX_pca\u001b[0m\u001b[0;34m,\u001b[0m \u001b[0mk\u001b[0m\u001b[0;34m)\u001b[0m\u001b[0;34m\u001b[0m\u001b[0m\n\u001b[0m\u001b[1;32m      9\u001b[0m \u001b[0;34m\u001b[0m\u001b[0m\n\u001b[1;32m     10\u001b[0m \u001b[0;34m\u001b[0m\u001b[0m\n",
      "\u001b[0;32m<ipython-input-341-7012d4d38c0f>\u001b[0m in \u001b[0;36mplot_kmeans\u001b[0;34m(C, centers, X_pca, k)\u001b[0m\n\u001b[1;32m     24\u001b[0m             \u001b[0mcolour\u001b[0m \u001b[0;34m=\u001b[0m \u001b[0;34m[\u001b[0m\u001b[0mrandom\u001b[0m\u001b[0;34m.\u001b[0m\u001b[0mrandom\u001b[0m\u001b[0;34m(\u001b[0m\u001b[0;34m)\u001b[0m \u001b[0;32mfor\u001b[0m \u001b[0mc\u001b[0m \u001b[0;32min\u001b[0m \u001b[0mrange\u001b[0m\u001b[0;34m(\u001b[0m\u001b[0;36m3\u001b[0m\u001b[0;34m)\u001b[0m\u001b[0;34m]\u001b[0m\u001b[0;34m\u001b[0m\u001b[0m\n\u001b[1;32m     25\u001b[0m             \u001b[0mplt\u001b[0m\u001b[0;34m.\u001b[0m\u001b[0mscatter\u001b[0m\u001b[0;34m(\u001b[0m\u001b[0mx\u001b[0m\u001b[0;34m[\u001b[0m\u001b[0;34m:\u001b[0m\u001b[0;34m,\u001b[0m\u001b[0;36m0\u001b[0m\u001b[0;34m]\u001b[0m\u001b[0;34m,\u001b[0m\u001b[0mx\u001b[0m\u001b[0;34m[\u001b[0m\u001b[0;34m:\u001b[0m\u001b[0;34m,\u001b[0m\u001b[0;36m1\u001b[0m\u001b[0;34m]\u001b[0m\u001b[0;34m,\u001b[0m \u001b[0mcolor\u001b[0m\u001b[0;34m=\u001b[0m\u001b[0mcolour\u001b[0m\u001b[0;34m)\u001b[0m\u001b[0;34m\u001b[0m\u001b[0m\n\u001b[0;32m---> 26\u001b[0;31m             \u001b[0mplt\u001b[0m\u001b[0;34m.\u001b[0m\u001b[0mscatter\u001b[0m\u001b[0;34m(\u001b[0m\u001b[0mcenters\u001b[0m\u001b[0;34m[\u001b[0m\u001b[0mi\u001b[0m\u001b[0;34m]\u001b[0m\u001b[0;34m[\u001b[0m\u001b[0;36m0\u001b[0m\u001b[0;34m]\u001b[0m\u001b[0;34m,\u001b[0m \u001b[0mcenters\u001b[0m\u001b[0;34m[\u001b[0m\u001b[0mi\u001b[0m\u001b[0;34m]\u001b[0m\u001b[0;34m[\u001b[0m\u001b[0;36m1\u001b[0m\u001b[0;34m]\u001b[0m\u001b[0;34m,\u001b[0m \u001b[0mmarker\u001b[0m\u001b[0;34m=\u001b[0m\u001b[0;34m's'\u001b[0m\u001b[0;34m,\u001b[0m \u001b[0mc\u001b[0m \u001b[0;34m=\u001b[0m \u001b[0mmarker_c\u001b[0m\u001b[0;34m,\u001b[0m \u001b[0ms\u001b[0m \u001b[0;34m=\u001b[0m \u001b[0;36m40\u001b[0m\u001b[0;34m)\u001b[0m\u001b[0;34m\u001b[0m\u001b[0m\n\u001b[0m\u001b[1;32m     27\u001b[0m \u001b[0;34m\u001b[0m\u001b[0m\n",
      "\u001b[0;31mIndexError\u001b[0m: index 3 is out of bounds for axis 0 with size 3"
     ]
    },
    {
     "data": {
      "image/png": "[encoded data removed]",
      "text/plain": [
       "<matplotlib.figure.Figure at 0x122077b50>"
      ]
     },
     "metadata": {},
     "output_type": "display_data"
    }
   ],
   "source": [
    "C2, centers2, distortion, centers_list2 = mykmeans_plus_plus(X_scaled, k1,50)\n",
    "centers2_pca = pca.transform(centers2) \n",
    "\n",
    "\n",
    "\n",
    "    \n",
    "centers_list2 = np.array(centers_list2)\n",
    "plot_kmeans(C2, centers2_pca, X_pca, k)\n",
    "\n",
    "\n",
    "#for l in range(k):\n",
    "   #plt.plot(centers_list2[:,l][:,0], centers_list2[:,l][:,1], '-o')\n",
    "    \n",
    "    \n",
    "plt.figure()\n",
    "index1= [i for i in range(50)]\n",
    "plt.plot(index1, distortion)\n",
    "plt.xlabel('Iterations')\n",
    "plt.ylabel('Distortion')\n"
   ]
  },
  {
   "cell_type": "code",
   "execution_count": 453,
   "metadata": {
    "collapsed": false
   },
   "outputs": [
    {
     "data": {
      "text/plain": [
       "[3, 30, -3, 1]"
      ]
     },
     "execution_count": 453,
     "metadata": {},
     "output_type": "execute_result"
    },
    {
     "data": {
      "image/png": "[encoded data removed]",
      "text/plain": [
       "<matplotlib.figure.Figure at 0x11e3de190>"
      ]
     },
     "metadata": {},
     "output_type": "display_data"
    }
   ],
   "source": [
    "'''\n",
    "Compare the running time of mykmeans++ to the Scikit-Learn’s sklearn.cluster.KMeans,\n",
    "for different values of the number of clusters\n",
    "'''\n",
    "\n",
    "from sklearn.cluster import KMeans\n",
    "\n",
    "sk =[]\n",
    "my = []\n",
    "\n",
    "\n",
    "clusters = [i*3 for i in range(1,11)]\n",
    "\n",
    "for k in clusters:\n",
    "    \n",
    "    #get running time of Scikit-Learn's KMeans\n",
    "    sk_start = time.time()\n",
    "    kmeans = KMeans(n_clusters=k, n_jobs = 1)\n",
    "    kmeans.fit(X_scaled)\n",
    "    sk_end = time.time()\n",
    "    sk.append( sk_end- sk_start)\n",
    "    \n",
    "    #get running time of mykmeans_plus_plus\n",
    "    my_start = time.time()\n",
    "    C2, centers2, distortion, centers_list2 = mykmeans_plus_plus(X_scaled, k,50)\n",
    "    my_end = time.time()\n",
    "    my.append(my_end - my_start)\n",
    "    \n",
    "    \n",
    "\n",
    "plt.plot(clusters, np.log10(sk), label = 'Scikit-learn KMeans')\n",
    "plt.plot(clusters, np.log10(my), label = 'mykmeans++')\n",
    "\n",
    "plt.xlabel('Number of clusters')\n",
    "plt.ylabel('Time Taken')\n",
    "plt.legend(loc='upper left')\n",
    "\n",
    "plt.axis([3, 30, -3, 1])\n",
    "\n",
    "#labels = kmeans.labels_\n",
    "#centroids = kmeans.cluster_centers_\n",
    "\n",
    "#plot_kmeans(labels, centroids,X_pca, k)\n",
    "\n"
   ]
  },
  {
   "cell_type": "markdown",
   "metadata": {
    "collapsed": false
   },
   "source": [
    "## 3) Bag-of-features##\n",
    "### 3.1 Bag-of-words###\n",
    "Exercise 2 \"sentiment analysis on movie reviews can be found in the file exercise_02_sentiment.py. "
   ]
  },
  {
   "cell_type": "code",
   "execution_count": 478,
   "metadata": {
    "collapsed": true
   },
   "outputs": [],
   "source": [
    "def get_spectrogram(filename, length):\n",
    "    w = wave.open(filename,\"rb\")\n",
    "\n",
    "    #returns a named tuple (nchannels, sampwidth, framerate, \n",
    "    # nframes, comptype, compname)\n",
    "    waveParams = w.getparams()\n",
    "\n",
    "    s = w.readframes(waveParams[3])\n",
    "    w.close()\n",
    "    waveArray = np.fromstring(s, np.int16)\n",
    "\n",
    "    spectrum, freq, bins = mlab.specgram(waveArray, NFFT=length ,Fs=waveParams[2],sides='onesided')\n",
    "\n",
    "    spectrum = spectrum.T\n",
    "\n",
    "    for i in range(len(spectrum)):\n",
    "        for j in range(len(spectrum[0])):\n",
    "            spectrum[i][j] = np.sqrt(spectrum[i][j])\n",
    "\n",
    "\n",
    "    spectrum_normalize = preprocessing.normalize(spectrum, norm='l2')\n",
    "\n",
    "    return spectrum_normalize"
   ]
  },
  {
   "cell_type": "code",
   "execution_count": 479,
   "metadata": {
    "collapsed": true
   },
   "outputs": [],
   "source": [
    "def learnvocabulary(filename, k, length, max_iter):\n",
    "    \n",
    "    spectrum_normalize = get_spectrogram(filename, length)\n",
    "    return  mykmeans_plus_plus(spectrum_normalize, k, max_iter)[1]\n",
    "\n",
    "    "
   ]
  },
  {
   "cell_type": "code",
   "execution_count": 485,
   "metadata": {
    "collapsed": true
   },
   "outputs": [],
   "source": [
    "def getbof(filename, length, vocab):\n",
    "    spectrum = get_spectrogram(filename, length)\n",
    "    \n",
    "    vocab = np.array(vocab)\n",
    "    spectrum = np.array(spectrum)\n",
    "    \n",
    "    freq =[0]*vocab.shape[0]\n",
    "    for i in range(spectrum.shape[0]):\n",
    "        index = get_closest(spectrum[i], vocab)[0]\n",
    "        freq[index] += 1\n",
    "        \n",
    "        \n",
    "    return freq\n",
    "        \n",
    "        \n",
    "    "
   ]
  },
  {
   "cell_type": "code",
   "execution_count": 493,
   "metadata": {
    "collapsed": false
   },
   "outputs": [
    {
     "data": {
      "text/plain": [
       "(array([ 3223.,  5205.,  2313.,  4129.,  4820.,  3651.,  3491.,  6524.,\n",
       "         3231.,  4544.]),\n",
       " array([  0. ,   1.9,   3.8,   5.7,   7.6,   9.5,  11.4,  13.3,  15.2,\n",
       "         17.1,  19. ]),\n",
       " <a list of 10 Patch objects>)"
      ]
     },
     "execution_count": 493,
     "metadata": {},
     "output_type": "execute_result"
    },
    {
     "data": {
      "image/png": "[encoded data removed]",
      "text/plain": [
       "<matplotlib.figure.Figure at 0x11c91eb50>"
      ]
     },
     "metadata": {},
     "output_type": "display_data"
    }
   ],
   "source": [
    "import wave, struct, numpy as np, matplotlib.mlab as mlab, pylab as pl\n",
    "from sklearn import preprocessing\n",
    "\n",
    "filename1 = \"train.wav\"\n",
    "k = 20\n",
    "length = 256\n",
    "max_iter = 50\n",
    "\n",
    "filename2 = \"test.wav\"\n",
    "\n",
    "vocab = learnvocabulary(filename1, k, length, max_iter)\n",
    "freq = getbof(filename2, length, vocab)\n",
    "\n",
    "\n",
    "## the bars\n",
    "plt.hist(range(k), weights=freq)\n",
    "\n",
    "    \n"
   ]
  },
  {
   "cell_type": "code",
   "execution_count": 513,
   "metadata": {
    "collapsed": false,
    "scrolled": true
   },
   "outputs": [
    {
     "name": "stdout",
     "output_type": "stream",
     "text": [
      "3839.14052882\n",
      "3509.26203068\n",
      "()\n",
      "3099.18150485\n",
      "4312.92174749\n"
     ]
    }
   ],
   "source": [
    "import wave, struct, numpy as np, matplotlib.mlab as mlab, pylab as pl\n",
    "from sklearn import preprocessing\n",
    "\n",
    "k = 5\n",
    "length = 256\n",
    "max_iter = 50\n",
    "\n",
    "filename1 = \"Sebastian.wav\"\n",
    "filename2 = \"Aarti.wav\"\n",
    "\n",
    "#get vocabulary by combining spectrogram of both of our voices\n",
    "spectrum_normalize1 = get_spectrogram(filename1, length)\n",
    "spectrum_normalize2 = get_spectrogram(filename2, length)\n",
    "\n",
    "spectrum =  np.vstack((spectrum_normalize1, spectrum_normalize2))\n",
    "returns  = mykmeans_plus_plus(spectrum , k, max_iter)\n",
    "vocab = returns[1]\n",
    "distortion = returns[2]\n",
    "freq1 = getbof(filename1, length, vocab)\n",
    "freq2 = getbof(filename2, length, vocab)\n",
    "\n",
    "filename3 = \"Sebastian_Random.wav\"\n",
    "filename4 = \"Aarti_Random.wav\"\n",
    "\n",
    "freq3 = getbof(filename3, length, vocab)\n",
    "freq4 = getbof(filename4, length, vocab)\n",
    "\n",
    "\n",
    "freq1 = np.array(freq1)\n",
    "freq2 = np.array(freq2)\n",
    "freq3 = np.array(freq3)\n",
    "freq4 = np.array(freq4)\n",
    "\n",
    "print(np.linalg.norm(freq1- freq3))\n",
    "print(np.linalg.norm(freq2- freq4))\n",
    "print()\n",
    "print(np.linalg.norm(freq1- freq4))\n",
    "print(np.linalg.norm(freq2- freq3))\n",
    "## the bars\n",
    "#plt.hist(range(k), weights=freq)"
   ]
  },
  {
   "cell_type": "code",
   "execution_count": 518,
   "metadata": {
    "collapsed": false
   },
   "outputs": [
    {
     "data": {
      "text/plain": [
       "'\\nIf we would have used Knearest neighbours, code for grid search -\\n\\ngrid = GridSearchCV(KNeighborsClassifier(), param_grid=param_grid)\\ngrid.fit(X_train, y_train)\\nprint(\"best parameters: %s\" % grid.best_params_)\\nprint(\"Training set accuracy: %s\" % grid.score(X_train, y_train))\\nprint(\"Test set accuracy: %s\" % grid.score(X_test, y_test))\\n'"
      ]
     },
     "execution_count": 518,
     "metadata": {},
     "output_type": "execute_result"
    }
   ],
   "source": [
    "\n",
    "'''\n",
    "If we would have used Knearest neighbours, code for grid search -\n",
    "\n",
    "grid = GridSearchCV(KNeighborsClassifier(), param_grid=param_grid)\n",
    "grid.fit(X_train, y_train)\n",
    "print(\"best parameters: %s\" % grid.best_params_)\n",
    "print(\"Training set accuracy: %s\" % grid.score(X_train, y_train))\n",
    "print(\"Test set accuracy: %s\" % grid.score(X_test, y_test))\n",
    "'''"
   ]
  },
  {
   "cell_type": "code",
   "execution_count": null,
   "metadata": {
    "collapsed": true
   },
   "outputs": [],
   "source": []
  }
 ],
 "metadata": {
  "kernelspec": {
   "display_name": "Python 2",
   "language": "python",
   "name": "python2"
  },
  "language_info": {
   "codemirror_mode": {
    "name": "ipython",
    "version": 2
   },
   "file_extension": ".py",
   "mimetype": "text/x-python",
   "name": "python",
   "nbconvert_exporter": "python",
   "pygments_lexer": "ipython2",
   "version": "2.7.10"
  }
 },
 "nbformat": 4,
 "nbformat_minor": 0
}
